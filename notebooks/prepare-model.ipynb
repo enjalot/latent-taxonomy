{
 "cells": [
  {
   "cell_type": "markdown",
   "metadata": {},
   "source": [
    "## Prepare metadata for a model\n",
    "We combine important meta data about the model from various sources. We want:\n",
    "\n",
    "- id: unique identifier made up of {repo}_{topk}_{expansion}\n",
    "- repo: HF repository\n",
    "- topk: top k latents used\n",
    "- expansion: how many\n",
    "- source_model: HF id of the source model e.g. nomic/nomic-embed-text-v1.5\n",
    "- d_in: input dimensions of the embeddings for the SAE: e.g. 768\n",
    "\n",
    "We also will make a parquet for the features with the following columns\n",
    "\n",
    "- feature: feature id (an index into the SAE decoder weights)\n",
    "- x: UMAP position x\n",
    "- y: UMAP position y\n",
    "- label: feature label\n",
    "- max_activation: max activation of the feature (seen in the top examples)\n",
    "- order: an index into an ordering of the features determined by a 1D UMAP\n",
    "\n",
    "We also prepare the top 10 samples for each feature, these will be split into smaller parquet files for dynamic loading in the browser\n",
    "\n",
    "- text: text of the sample\n",
    "- feature: feature id (an index into the SAE decoder weights)\n",
    "- activation: activation of the feature\n",
    "- top_indices: indices of the topk features activated on this sample\n",
    "- top_acts: activation values of the topk features activated"
   ]
  },
  {
   "cell_type": "code",
   "execution_count": 18,
   "metadata": {},
   "outputs": [],
   "source": [
    "import pandas as pd\n",
    "import numpy as np\n",
    "import os\n",
    "import json\n",
    "import tqdm\n",
    "from latentsae.sae import Sae"
   ]
  },
  {
   "cell_type": "markdown",
   "metadata": {},
   "source": [
    "### Metadata"
   ]
  },
  {
   "cell_type": "code",
   "execution_count": 19,
   "metadata": {},
   "outputs": [],
   "source": [
    "topk = 64\n",
    "expansion = 32\n",
    "repo = \"enjalot/sae-nomic-text-v1.5-FineWeb-edu-100BT\"\n",
    "sae_id = f\"{topk}_{expansion}\""
   ]
  },
  {
   "cell_type": "code",
   "execution_count": 20,
   "metadata": {},
   "outputs": [
    {
     "name": "stderr",
     "output_type": "stream",
     "text": [
      "Fetching 2 files: 100%|██████████| 2/2 [00:00<00:00, 41943.04it/s]\n"
     ]
    }
   ],
   "source": [
    "model = Sae.load_from_hub(repo, sae_id)"
   ]
  },
  {
   "cell_type": "code",
   "execution_count": 21,
   "metadata": {},
   "outputs": [],
   "source": [
    "name = f\"NOMIC_FWEDU_{round(model.num_latents/1000)}k\""
   ]
  },
  {
   "cell_type": "code",
   "execution_count": 22,
   "metadata": {},
   "outputs": [],
   "source": [
    "meta = {\n",
    "  \"id\": f\"{repo}_{sae_id}\",\n",
    "  \"name\": name,\n",
    "  \"repo\": repo,\n",
    "  \"topk\": topk,\n",
    "  \"expansion\": expansion,\n",
    "  \"d_in\": model.d_in,\n",
    "  \"num_latents\": model.num_latents,\n",
    "  \"source_model\": \"nomic-ai/nomic-embed-text-v1.5\"\n",
    "}"
   ]
  },
  {
   "cell_type": "code",
   "execution_count": 36,
   "metadata": {},
   "outputs": [
    {
     "data": {
      "text/plain": [
       "{'id': 'enjalot/sae-nomic-text-v1.5-FineWeb-edu-100BT_64_32',\n",
       " 'name': 'NOMIC_FWEDU_25k',\n",
       " 'repo': 'enjalot/sae-nomic-text-v1.5-FineWeb-edu-100BT',\n",
       " 'topk': 64,\n",
       " 'expansion': 32,\n",
       " 'd_in': 768,\n",
       " 'num_latents': 24576,\n",
       " 'source_model': 'nomic-ai/nomic-embed-text-v1.5'}"
      ]
     },
     "execution_count": 36,
     "metadata": {},
     "output_type": "execute_result"
    }
   ],
   "source": [
    "meta"
   ]
  },
  {
   "cell_type": "code",
   "execution_count": 38,
   "metadata": {},
   "outputs": [],
   "source": [
    "if not os.path.exists(f\"../models/{name}\"):\n",
    "  os.makedirs(f\"../models/{name}\")\n",
    "\n",
    "with open(f\"../models/{name}/metadata.json\", \"w\") as f:\n",
    "  json.dump(meta, f)"
   ]
  },
  {
   "cell_type": "markdown",
   "metadata": {},
   "source": [
    "## Features parquet\n",
    "\n",
    "UMAP coordinates are prepared in the notebook `umap-decoder.ipynb`.   \n",
    "Labels generated in `make-labels.ipynb`.  \n",
    "Samples are downloaded from modal"
   ]
  },
  {
   "cell_type": "code",
   "execution_count": 66,
   "metadata": {},
   "outputs": [
    {
     "data": {
      "text/html": [
       "<div>\n",
       "<style scoped>\n",
       "    .dataframe tbody tr th:only-of-type {\n",
       "        vertical-align: middle;\n",
       "    }\n",
       "\n",
       "    .dataframe tbody tr th {\n",
       "        vertical-align: top;\n",
       "    }\n",
       "\n",
       "    .dataframe thead th {\n",
       "        text-align: right;\n",
       "    }\n",
       "</style>\n",
       "<table border=\"1\" class=\"dataframe\">\n",
       "  <thead>\n",
       "    <tr style=\"text-align: right;\">\n",
       "      <th></th>\n",
       "      <th>feature</th>\n",
       "      <th>x</th>\n",
       "      <th>y</th>\n",
       "    </tr>\n",
       "  </thead>\n",
       "  <tbody>\n",
       "    <tr>\n",
       "      <th>0</th>\n",
       "      <td>0</td>\n",
       "      <td>-0.303497</td>\n",
       "      <td>0.625081</td>\n",
       "    </tr>\n",
       "    <tr>\n",
       "      <th>1</th>\n",
       "      <td>1</td>\n",
       "      <td>-0.742769</td>\n",
       "      <td>-0.499167</td>\n",
       "    </tr>\n",
       "    <tr>\n",
       "      <th>2</th>\n",
       "      <td>2</td>\n",
       "      <td>-0.374569</td>\n",
       "      <td>-0.632960</td>\n",
       "    </tr>\n",
       "    <tr>\n",
       "      <th>3</th>\n",
       "      <td>3</td>\n",
       "      <td>-0.310232</td>\n",
       "      <td>-0.219518</td>\n",
       "    </tr>\n",
       "    <tr>\n",
       "      <th>4</th>\n",
       "      <td>4</td>\n",
       "      <td>-0.400855</td>\n",
       "      <td>-0.180536</td>\n",
       "    </tr>\n",
       "  </tbody>\n",
       "</table>\n",
       "</div>"
      ],
      "text/plain": [
       "   feature         x         y\n",
       "0        0 -0.303497  0.625081\n",
       "1        1 -0.742769 -0.499167\n",
       "2        2 -0.374569 -0.632960\n",
       "3        3 -0.310232 -0.219518\n",
       "4        4 -0.400855 -0.180536"
      ]
     },
     "execution_count": 66,
     "metadata": {},
     "output_type": "execute_result"
    }
   ],
   "source": [
    "umap_df = pd.read_parquet(f\"data/umap-{name}.parquet\")\n",
    "umap_top10_df = pd.read_parquet(f\"data/umap-top10-{name}.parquet\")\n",
    "umap_df.head()"
   ]
  },
  {
   "cell_type": "code",
   "execution_count": 67,
   "metadata": {},
   "outputs": [
    {
     "data": {
      "text/html": [
       "<div>\n",
       "<style scoped>\n",
       "    .dataframe tbody tr th:only-of-type {\n",
       "        vertical-align: middle;\n",
       "    }\n",
       "\n",
       "    .dataframe tbody tr th {\n",
       "        vertical-align: top;\n",
       "    }\n",
       "\n",
       "    .dataframe thead th {\n",
       "        text-align: right;\n",
       "    }\n",
       "</style>\n",
       "<table border=\"1\" class=\"dataframe\">\n",
       "  <thead>\n",
       "    <tr style=\"text-align: right;\">\n",
       "      <th></th>\n",
       "      <th>chunk_index</th>\n",
       "      <th>chunk_text</th>\n",
       "      <th>chunk_token_count</th>\n",
       "      <th>id</th>\n",
       "      <th>url</th>\n",
       "      <th>score</th>\n",
       "      <th>dump</th>\n",
       "      <th>embedding</th>\n",
       "      <th>__index_level_0__</th>\n",
       "      <th>top_acts</th>\n",
       "      <th>top_indices</th>\n",
       "      <th>feature</th>\n",
       "      <th>activation</th>\n",
       "    </tr>\n",
       "  </thead>\n",
       "  <tbody>\n",
       "    <tr>\n",
       "      <th>0</th>\n",
       "      <td>0</td>\n",
       "      <td>- simple past tense and past participle of gel...</td>\n",
       "      <td>76</td>\n",
       "      <td>&lt;urn:uuid:ade93a67-14e4-4835-8fb6-7668fe8004db&gt;</td>\n",
       "      <td>http://www.yourdictionary.com/gelled</td>\n",
       "      <td>2.875000</td>\n",
       "      <td>CC-MAIN-2015-18</td>\n",
       "      <td>[0.055502143, 0.09088759, -0.1564934, -0.04632...</td>\n",
       "      <td>229004</td>\n",
       "      <td>[0.2783777713775635, 0.2591576874256134, 0.113...</td>\n",
       "      <td>[2006.0, 0.0, 793.0, 3718.0, 5826.0, 10367.0, ...</td>\n",
       "      <td>0</td>\n",
       "      <td>0.259158</td>\n",
       "    </tr>\n",
       "    <tr>\n",
       "      <th>1</th>\n",
       "      <td>0</td>\n",
       "      <td>Also found in: Thesaurus, Medical, Acronyms, E...</td>\n",
       "      <td>496</td>\n",
       "      <td>&lt;urn:uuid:ae2f5cf3-6392-4160-a4ee-5b36b3a97e65&gt;</td>\n",
       "      <td>https://www.thefreedictionary.com/gelatin</td>\n",
       "      <td>3.250000</td>\n",
       "      <td>CC-MAIN-2019-51</td>\n",
       "      <td>[0.041935317, 0.10650849, -0.1574557, -0.04301...</td>\n",
       "      <td>81064</td>\n",
       "      <td>[0.2565605938434601, 0.22474993765354156, 0.13...</td>\n",
       "      <td>[0.0, 2006.0, 5826.0, 793.0, 5945.0, 21665.0, ...</td>\n",
       "      <td>0</td>\n",
       "      <td>0.256561</td>\n",
       "    </tr>\n",
       "    <tr>\n",
       "      <th>2</th>\n",
       "      <td>0</td>\n",
       "      <td>A gel (from the lat. gelu—freezing, cold, ice ...</td>\n",
       "      <td>172</td>\n",
       "      <td>&lt;urn:uuid:c33df90e-c479-40e2-aa9b-ac6a4f0e47d9&gt;</td>\n",
       "      <td>http://medicalxpress.com/tags/hydrogel/sort/li...</td>\n",
       "      <td>3.281250</td>\n",
       "      <td>CC-MAIN-2015-35</td>\n",
       "      <td>[0.029497456, 0.109683335, -0.18576318, -0.034...</td>\n",
       "      <td>180126</td>\n",
       "      <td>[0.24542075395584106, 0.09371058642864227, 0.0...</td>\n",
       "      <td>[0.0, 2006.0, 10367.0, 7655.0, 16380.0, 15780....</td>\n",
       "      <td>0</td>\n",
       "      <td>0.245421</td>\n",
       "    </tr>\n",
       "    <tr>\n",
       "      <th>3</th>\n",
       "      <td>7</td>\n",
       "      <td>extended periods of time can damage gelatin an...</td>\n",
       "      <td>500</td>\n",
       "      <td>&lt;urn:uuid:16add753-dbb9-44e2-aad0-b9909c16cff5&gt;</td>\n",
       "      <td>http://mlaiskonis.com/2014/06/07/gelatin/</td>\n",
       "      <td>2.578125</td>\n",
       "      <td>CC-MAIN-2014-41</td>\n",
       "      <td>[0.0612519, 0.09704458, -0.17871378, -0.017184...</td>\n",
       "      <td>147957</td>\n",
       "      <td>[0.24373508989810944, 0.15119953453540802, 0.1...</td>\n",
       "      <td>[0.0, 5826.0, 21665.0, 12673.0, 16225.0, 4502....</td>\n",
       "      <td>0</td>\n",
       "      <td>0.243735</td>\n",
       "    </tr>\n",
       "    <tr>\n",
       "      <th>4</th>\n",
       "      <td>1</td>\n",
       "      <td>##loid gel. gelatin forms a solution of high v...</td>\n",
       "      <td>251</td>\n",
       "      <td>&lt;urn:uuid:acd089d5-9546-4c25-8142-ab2a5e3204cc&gt;</td>\n",
       "      <td>http://www.foodfacts.com/ci/ingredientsoverlay...</td>\n",
       "      <td>3.250000</td>\n",
       "      <td>CC-MAIN-2016-36</td>\n",
       "      <td>[0.060598753, 0.09118352, -0.18788467, -0.0564...</td>\n",
       "      <td>124253</td>\n",
       "      <td>[0.2427240014076233, 0.1294490396976471, 0.087...</td>\n",
       "      <td>[0.0, 5826.0, 13791.0, 7655.0, 11963.0, 15780....</td>\n",
       "      <td>0</td>\n",
       "      <td>0.242724</td>\n",
       "    </tr>\n",
       "  </tbody>\n",
       "</table>\n",
       "</div>"
      ],
      "text/plain": [
       "   chunk_index                                         chunk_text  \\\n",
       "0            0  - simple past tense and past participle of gel...   \n",
       "1            0  Also found in: Thesaurus, Medical, Acronyms, E...   \n",
       "2            0  A gel (from the lat. gelu—freezing, cold, ice ...   \n",
       "3            7  extended periods of time can damage gelatin an...   \n",
       "4            1  ##loid gel. gelatin forms a solution of high v...   \n",
       "\n",
       "   chunk_token_count                                               id  \\\n",
       "0                 76  <urn:uuid:ade93a67-14e4-4835-8fb6-7668fe8004db>   \n",
       "1                496  <urn:uuid:ae2f5cf3-6392-4160-a4ee-5b36b3a97e65>   \n",
       "2                172  <urn:uuid:c33df90e-c479-40e2-aa9b-ac6a4f0e47d9>   \n",
       "3                500  <urn:uuid:16add753-dbb9-44e2-aad0-b9909c16cff5>   \n",
       "4                251  <urn:uuid:acd089d5-9546-4c25-8142-ab2a5e3204cc>   \n",
       "\n",
       "                                                 url     score  \\\n",
       "0               http://www.yourdictionary.com/gelled  2.875000   \n",
       "1          https://www.thefreedictionary.com/gelatin  3.250000   \n",
       "2  http://medicalxpress.com/tags/hydrogel/sort/li...  3.281250   \n",
       "3          http://mlaiskonis.com/2014/06/07/gelatin/  2.578125   \n",
       "4  http://www.foodfacts.com/ci/ingredientsoverlay...  3.250000   \n",
       "\n",
       "              dump                                          embedding  \\\n",
       "0  CC-MAIN-2015-18  [0.055502143, 0.09088759, -0.1564934, -0.04632...   \n",
       "1  CC-MAIN-2019-51  [0.041935317, 0.10650849, -0.1574557, -0.04301...   \n",
       "2  CC-MAIN-2015-35  [0.029497456, 0.109683335, -0.18576318, -0.034...   \n",
       "3  CC-MAIN-2014-41  [0.0612519, 0.09704458, -0.17871378, -0.017184...   \n",
       "4  CC-MAIN-2016-36  [0.060598753, 0.09118352, -0.18788467, -0.0564...   \n",
       "\n",
       "   __index_level_0__                                           top_acts  \\\n",
       "0             229004  [0.2783777713775635, 0.2591576874256134, 0.113...   \n",
       "1              81064  [0.2565605938434601, 0.22474993765354156, 0.13...   \n",
       "2             180126  [0.24542075395584106, 0.09371058642864227, 0.0...   \n",
       "3             147957  [0.24373508989810944, 0.15119953453540802, 0.1...   \n",
       "4             124253  [0.2427240014076233, 0.1294490396976471, 0.087...   \n",
       "\n",
       "                                         top_indices  feature  activation  \n",
       "0  [2006.0, 0.0, 793.0, 3718.0, 5826.0, 10367.0, ...        0    0.259158  \n",
       "1  [0.0, 2006.0, 5826.0, 793.0, 5945.0, 21665.0, ...        0    0.256561  \n",
       "2  [0.0, 2006.0, 10367.0, 7655.0, 16380.0, 15780....        0    0.245421  \n",
       "3  [0.0, 5826.0, 21665.0, 12673.0, 16225.0, 4502....        0    0.243735  \n",
       "4  [0.0, 5826.0, 13791.0, 7655.0, 11963.0, 15780....        0    0.242724  "
      ]
     },
     "execution_count": 67,
     "metadata": {},
     "output_type": "execute_result"
    }
   ],
   "source": [
    "top10_df = pd.read_parquet(f\"data/top10-{name}.parquet\")\n",
    "top10_df.head()"
   ]
  },
  {
   "cell_type": "code",
   "execution_count": 68,
   "metadata": {},
   "outputs": [],
   "source": [
    "max_activation_per_feature = top10_df.groupby('feature')['activation'].max().reset_index()\n"
   ]
  },
  {
   "cell_type": "code",
   "execution_count": 69,
   "metadata": {},
   "outputs": [
    {
     "data": {
      "text/html": [
       "<div>\n",
       "<style scoped>\n",
       "    .dataframe tbody tr th:only-of-type {\n",
       "        vertical-align: middle;\n",
       "    }\n",
       "\n",
       "    .dataframe tbody tr th {\n",
       "        vertical-align: top;\n",
       "    }\n",
       "\n",
       "    .dataframe thead th {\n",
       "        text-align: right;\n",
       "    }\n",
       "</style>\n",
       "<table border=\"1\" class=\"dataframe\">\n",
       "  <thead>\n",
       "    <tr style=\"text-align: right;\">\n",
       "      <th></th>\n",
       "      <th>feature</th>\n",
       "      <th>activation</th>\n",
       "    </tr>\n",
       "  </thead>\n",
       "  <tbody>\n",
       "    <tr>\n",
       "      <th>0</th>\n",
       "      <td>0</td>\n",
       "      <td>0.259158</td>\n",
       "    </tr>\n",
       "    <tr>\n",
       "      <th>1</th>\n",
       "      <td>1</td>\n",
       "      <td>0.125571</td>\n",
       "    </tr>\n",
       "    <tr>\n",
       "      <th>2</th>\n",
       "      <td>2</td>\n",
       "      <td>0.041077</td>\n",
       "    </tr>\n",
       "    <tr>\n",
       "      <th>3</th>\n",
       "      <td>3</td>\n",
       "      <td>0.221894</td>\n",
       "    </tr>\n",
       "    <tr>\n",
       "      <th>4</th>\n",
       "      <td>4</td>\n",
       "      <td>0.031271</td>\n",
       "    </tr>\n",
       "    <tr>\n",
       "      <th>...</th>\n",
       "      <td>...</td>\n",
       "      <td>...</td>\n",
       "    </tr>\n",
       "    <tr>\n",
       "      <th>24571</th>\n",
       "      <td>24571</td>\n",
       "      <td>0.037978</td>\n",
       "    </tr>\n",
       "    <tr>\n",
       "      <th>24572</th>\n",
       "      <td>24572</td>\n",
       "      <td>0.151966</td>\n",
       "    </tr>\n",
       "    <tr>\n",
       "      <th>24573</th>\n",
       "      <td>24573</td>\n",
       "      <td>0.077753</td>\n",
       "    </tr>\n",
       "    <tr>\n",
       "      <th>24574</th>\n",
       "      <td>24574</td>\n",
       "      <td>0.224355</td>\n",
       "    </tr>\n",
       "    <tr>\n",
       "      <th>24575</th>\n",
       "      <td>24575</td>\n",
       "      <td>0.119291</td>\n",
       "    </tr>\n",
       "  </tbody>\n",
       "</table>\n",
       "<p>24576 rows × 2 columns</p>\n",
       "</div>"
      ],
      "text/plain": [
       "       feature  activation\n",
       "0            0    0.259158\n",
       "1            1    0.125571\n",
       "2            2    0.041077\n",
       "3            3    0.221894\n",
       "4            4    0.031271\n",
       "...        ...         ...\n",
       "24571    24571    0.037978\n",
       "24572    24572    0.151966\n",
       "24573    24573    0.077753\n",
       "24574    24574    0.224355\n",
       "24575    24575    0.119291\n",
       "\n",
       "[24576 rows x 2 columns]"
      ]
     },
     "execution_count": 69,
     "metadata": {},
     "output_type": "execute_result"
    }
   ],
   "source": [
    "max_activation_per_feature"
   ]
  },
  {
   "cell_type": "code",
   "execution_count": 70,
   "metadata": {},
   "outputs": [],
   "source": [
    "feature_df = max_activation_per_feature.copy()\n",
    "feature_df.rename(columns={'activation': 'max_activation'}, inplace=True)\n"
   ]
  },
  {
   "cell_type": "code",
   "execution_count": 71,
   "metadata": {},
   "outputs": [],
   "source": [
    "feature_df[\"x\"] = umap_df[\"x\"]\n",
    "feature_df[\"y\"] = umap_df[\"y\"]\n",
    "feature_df[\"top10_x\"] = umap_top10_df[\"x\"]\n",
    "feature_df[\"top10_y\"] = umap_top10_df[\"y\"]\n"
   ]
  },
  {
   "cell_type": "code",
   "execution_count": 72,
   "metadata": {},
   "outputs": [],
   "source": [
    "label_df = pd.read_parquet(f\"data/labels-{name}.parquet\")"
   ]
  },
  {
   "cell_type": "code",
   "execution_count": 73,
   "metadata": {},
   "outputs": [
    {
     "data": {
      "text/html": [
       "<div>\n",
       "<style scoped>\n",
       "    .dataframe tbody tr th:only-of-type {\n",
       "        vertical-align: middle;\n",
       "    }\n",
       "\n",
       "    .dataframe tbody tr th {\n",
       "        vertical-align: top;\n",
       "    }\n",
       "\n",
       "    .dataframe thead th {\n",
       "        text-align: right;\n",
       "    }\n",
       "</style>\n",
       "<table border=\"1\" class=\"dataframe\">\n",
       "  <thead>\n",
       "    <tr style=\"text-align: right;\">\n",
       "      <th></th>\n",
       "      <th>feature</th>\n",
       "      <th>label</th>\n",
       "    </tr>\n",
       "  </thead>\n",
       "  <tbody>\n",
       "    <tr>\n",
       "      <th>0</th>\n",
       "      <td>0</td>\n",
       "      <td>properties uses and characteristics of gelatin</td>\n",
       "    </tr>\n",
       "    <tr>\n",
       "      <th>1</th>\n",
       "      <td>1</td>\n",
       "      <td>Heathcliff's obsessive love and revenge themes.</td>\n",
       "    </tr>\n",
       "    <tr>\n",
       "      <th>2</th>\n",
       "      <td>2</td>\n",
       "      <td>military aviation and emergency response strat...</td>\n",
       "    </tr>\n",
       "    <tr>\n",
       "      <th>3</th>\n",
       "      <td>3</td>\n",
       "      <td>presidential veto and legislative process</td>\n",
       "    </tr>\n",
       "    <tr>\n",
       "      <th>4</th>\n",
       "      <td>4</td>\n",
       "      <td>Early American political figures and women's r...</td>\n",
       "    </tr>\n",
       "  </tbody>\n",
       "</table>\n",
       "</div>"
      ],
      "text/plain": [
       "   feature                                              label\n",
       "0        0     properties uses and characteristics of gelatin\n",
       "1        1    Heathcliff's obsessive love and revenge themes.\n",
       "2        2  military aviation and emergency response strat...\n",
       "3        3          presidential veto and legislative process\n",
       "4        4  Early American political figures and women's r..."
      ]
     },
     "execution_count": 73,
     "metadata": {},
     "output_type": "execute_result"
    }
   ],
   "source": [
    "label_df.head()"
   ]
  },
  {
   "cell_type": "code",
   "execution_count": 74,
   "metadata": {},
   "outputs": [
    {
     "data": {
      "text/plain": [
       "24576"
      ]
     },
     "execution_count": 74,
     "metadata": {},
     "output_type": "execute_result"
    }
   ],
   "source": [
    "len(label_df)"
   ]
  },
  {
   "cell_type": "code",
   "execution_count": 75,
   "metadata": {},
   "outputs": [],
   "source": [
    "feature_df[\"label\"] = label_df[\"label\"].str.replace(\"FINAL: \", \"\", regex=False).str.strip()"
   ]
  },
  {
   "cell_type": "code",
   "execution_count": 80,
   "metadata": {},
   "outputs": [],
   "source": [
    "# order_df = pd.read_parquet(f\"data/1d-order-{name}.parquet\")\n",
    "order_df = pd.read_parquet(f\"data/1d-order-{name}-top10.parquet\")\n",
    "# Scale the \"order\" column from 0 to 1\n",
    "# Scale the \"order\" column from 0 to 1\n",
    "order = order_df[\"order\"].values\n",
    "order_min = order.min()\n",
    "order_max = order.max()\n",
    "order = (order - order_min) / (order_max - order_min)\n",
    "\n",
    "\n",
    "feature_df[\"order\"] = order"
   ]
  },
  {
   "cell_type": "code",
   "execution_count": 81,
   "metadata": {},
   "outputs": [],
   "source": [
    "# feature_df = pd.read_parquet(f\"../web/public/models/{name}/features.parquet\")"
   ]
  },
  {
   "cell_type": "code",
   "execution_count": 82,
   "metadata": {},
   "outputs": [
    {
     "data": {
      "text/html": [
       "<div>\n",
       "<style scoped>\n",
       "    .dataframe tbody tr th:only-of-type {\n",
       "        vertical-align: middle;\n",
       "    }\n",
       "\n",
       "    .dataframe tbody tr th {\n",
       "        vertical-align: top;\n",
       "    }\n",
       "\n",
       "    .dataframe thead th {\n",
       "        text-align: right;\n",
       "    }\n",
       "</style>\n",
       "<table border=\"1\" class=\"dataframe\">\n",
       "  <thead>\n",
       "    <tr style=\"text-align: right;\">\n",
       "      <th></th>\n",
       "      <th>feature</th>\n",
       "      <th>max_activation</th>\n",
       "      <th>x</th>\n",
       "      <th>y</th>\n",
       "      <th>top10_x</th>\n",
       "      <th>top10_y</th>\n",
       "      <th>label</th>\n",
       "      <th>order</th>\n",
       "    </tr>\n",
       "  </thead>\n",
       "  <tbody>\n",
       "    <tr>\n",
       "      <th>0</th>\n",
       "      <td>0</td>\n",
       "      <td>0.259158</td>\n",
       "      <td>-0.303497</td>\n",
       "      <td>0.625081</td>\n",
       "      <td>0.065658</td>\n",
       "      <td>0.372876</td>\n",
       "      <td>properties uses and characteristics of gelatin</td>\n",
       "      <td>0.589799</td>\n",
       "    </tr>\n",
       "    <tr>\n",
       "      <th>1</th>\n",
       "      <td>1</td>\n",
       "      <td>0.125571</td>\n",
       "      <td>-0.742769</td>\n",
       "      <td>-0.499167</td>\n",
       "      <td>0.475987</td>\n",
       "      <td>-0.685467</td>\n",
       "      <td>Heathcliff's obsessive love and revenge themes.</td>\n",
       "      <td>0.788589</td>\n",
       "    </tr>\n",
       "    <tr>\n",
       "      <th>2</th>\n",
       "      <td>2</td>\n",
       "      <td>0.041077</td>\n",
       "      <td>-0.374569</td>\n",
       "      <td>-0.632960</td>\n",
       "      <td>0.007194</td>\n",
       "      <td>-0.277979</td>\n",
       "      <td>military aviation and emergency response strat...</td>\n",
       "      <td>0.450889</td>\n",
       "    </tr>\n",
       "    <tr>\n",
       "      <th>3</th>\n",
       "      <td>3</td>\n",
       "      <td>0.221894</td>\n",
       "      <td>-0.310232</td>\n",
       "      <td>-0.219518</td>\n",
       "      <td>0.134838</td>\n",
       "      <td>-0.860194</td>\n",
       "      <td>presidential veto and legislative process</td>\n",
       "      <td>0.535589</td>\n",
       "    </tr>\n",
       "    <tr>\n",
       "      <th>4</th>\n",
       "      <td>4</td>\n",
       "      <td>0.031271</td>\n",
       "      <td>-0.400855</td>\n",
       "      <td>-0.180536</td>\n",
       "      <td>0.437017</td>\n",
       "      <td>-0.489262</td>\n",
       "      <td>Early American political figures and women's r...</td>\n",
       "      <td>0.754275</td>\n",
       "    </tr>\n",
       "  </tbody>\n",
       "</table>\n",
       "</div>"
      ],
      "text/plain": [
       "   feature  max_activation         x         y   top10_x   top10_y  \\\n",
       "0        0        0.259158 -0.303497  0.625081  0.065658  0.372876   \n",
       "1        1        0.125571 -0.742769 -0.499167  0.475987 -0.685467   \n",
       "2        2        0.041077 -0.374569 -0.632960  0.007194 -0.277979   \n",
       "3        3        0.221894 -0.310232 -0.219518  0.134838 -0.860194   \n",
       "4        4        0.031271 -0.400855 -0.180536  0.437017 -0.489262   \n",
       "\n",
       "                                               label     order  \n",
       "0     properties uses and characteristics of gelatin  0.589799  \n",
       "1    Heathcliff's obsessive love and revenge themes.  0.788589  \n",
       "2  military aviation and emergency response strat...  0.450889  \n",
       "3          presidential veto and legislative process  0.535589  \n",
       "4  Early American political figures and women's r...  0.754275  "
      ]
     },
     "execution_count": 82,
     "metadata": {},
     "output_type": "execute_result"
    }
   ],
   "source": [
    "feature_df.head()"
   ]
  },
  {
   "cell_type": "code",
   "execution_count": 83,
   "metadata": {},
   "outputs": [],
   "source": [
    "feature_df.to_parquet(f\"../web/public/models/{name}/features.parquet\")"
   ]
  },
  {
   "cell_type": "markdown",
   "metadata": {},
   "source": [
    "## Sample chunks\n",
    "\n",
    "We chunk our top10 samples into smaller files so we can load them dynamically in the browser."
   ]
  },
  {
   "cell_type": "code",
   "execution_count": 97,
   "metadata": {},
   "outputs": [],
   "source": [
    "t10r_df = top10_df[['id', 'chunk_text', 'url', 'feature', 'activation', 'top_acts', 'top_indices']].copy()\n",
    "t10r_df.rename(columns={'chunk_text': 'text'}, inplace=True)\n"
   ]
  },
  {
   "cell_type": "code",
   "execution_count": 98,
   "metadata": {},
   "outputs": [
    {
     "data": {
      "text/html": [
       "<div>\n",
       "<style scoped>\n",
       "    .dataframe tbody tr th:only-of-type {\n",
       "        vertical-align: middle;\n",
       "    }\n",
       "\n",
       "    .dataframe tbody tr th {\n",
       "        vertical-align: top;\n",
       "    }\n",
       "\n",
       "    .dataframe thead th {\n",
       "        text-align: right;\n",
       "    }\n",
       "</style>\n",
       "<table border=\"1\" class=\"dataframe\">\n",
       "  <thead>\n",
       "    <tr style=\"text-align: right;\">\n",
       "      <th></th>\n",
       "      <th>id</th>\n",
       "      <th>text</th>\n",
       "      <th>url</th>\n",
       "      <th>feature</th>\n",
       "      <th>activation</th>\n",
       "      <th>top_acts</th>\n",
       "      <th>top_indices</th>\n",
       "    </tr>\n",
       "  </thead>\n",
       "  <tbody>\n",
       "    <tr>\n",
       "      <th>0</th>\n",
       "      <td>&lt;urn:uuid:ade93a67-14e4-4835-8fb6-7668fe8004db&gt;</td>\n",
       "      <td>- simple past tense and past participle of gel...</td>\n",
       "      <td>http://www.yourdictionary.com/gelled</td>\n",
       "      <td>0</td>\n",
       "      <td>0.259158</td>\n",
       "      <td>[0.2783777713775635, 0.2591576874256134, 0.113...</td>\n",
       "      <td>[2006.0, 0.0, 793.0, 3718.0, 5826.0, 10367.0, ...</td>\n",
       "    </tr>\n",
       "    <tr>\n",
       "      <th>1</th>\n",
       "      <td>&lt;urn:uuid:ae2f5cf3-6392-4160-a4ee-5b36b3a97e65&gt;</td>\n",
       "      <td>Also found in: Thesaurus, Medical, Acronyms, E...</td>\n",
       "      <td>https://www.thefreedictionary.com/gelatin</td>\n",
       "      <td>0</td>\n",
       "      <td>0.256561</td>\n",
       "      <td>[0.2565605938434601, 0.22474993765354156, 0.13...</td>\n",
       "      <td>[0.0, 2006.0, 5826.0, 793.0, 5945.0, 21665.0, ...</td>\n",
       "    </tr>\n",
       "    <tr>\n",
       "      <th>2</th>\n",
       "      <td>&lt;urn:uuid:c33df90e-c479-40e2-aa9b-ac6a4f0e47d9&gt;</td>\n",
       "      <td>A gel (from the lat. gelu—freezing, cold, ice ...</td>\n",
       "      <td>http://medicalxpress.com/tags/hydrogel/sort/li...</td>\n",
       "      <td>0</td>\n",
       "      <td>0.245421</td>\n",
       "      <td>[0.24542075395584106, 0.09371058642864227, 0.0...</td>\n",
       "      <td>[0.0, 2006.0, 10367.0, 7655.0, 16380.0, 15780....</td>\n",
       "    </tr>\n",
       "    <tr>\n",
       "      <th>3</th>\n",
       "      <td>&lt;urn:uuid:16add753-dbb9-44e2-aad0-b9909c16cff5&gt;</td>\n",
       "      <td>extended periods of time can damage gelatin an...</td>\n",
       "      <td>http://mlaiskonis.com/2014/06/07/gelatin/</td>\n",
       "      <td>0</td>\n",
       "      <td>0.243735</td>\n",
       "      <td>[0.24373508989810944, 0.15119953453540802, 0.1...</td>\n",
       "      <td>[0.0, 5826.0, 21665.0, 12673.0, 16225.0, 4502....</td>\n",
       "    </tr>\n",
       "    <tr>\n",
       "      <th>4</th>\n",
       "      <td>&lt;urn:uuid:acd089d5-9546-4c25-8142-ab2a5e3204cc&gt;</td>\n",
       "      <td>##loid gel. gelatin forms a solution of high v...</td>\n",
       "      <td>http://www.foodfacts.com/ci/ingredientsoverlay...</td>\n",
       "      <td>0</td>\n",
       "      <td>0.242724</td>\n",
       "      <td>[0.2427240014076233, 0.1294490396976471, 0.087...</td>\n",
       "      <td>[0.0, 5826.0, 13791.0, 7655.0, 11963.0, 15780....</td>\n",
       "    </tr>\n",
       "  </tbody>\n",
       "</table>\n",
       "</div>"
      ],
      "text/plain": [
       "                                                id  \\\n",
       "0  <urn:uuid:ade93a67-14e4-4835-8fb6-7668fe8004db>   \n",
       "1  <urn:uuid:ae2f5cf3-6392-4160-a4ee-5b36b3a97e65>   \n",
       "2  <urn:uuid:c33df90e-c479-40e2-aa9b-ac6a4f0e47d9>   \n",
       "3  <urn:uuid:16add753-dbb9-44e2-aad0-b9909c16cff5>   \n",
       "4  <urn:uuid:acd089d5-9546-4c25-8142-ab2a5e3204cc>   \n",
       "\n",
       "                                                text  \\\n",
       "0  - simple past tense and past participle of gel...   \n",
       "1  Also found in: Thesaurus, Medical, Acronyms, E...   \n",
       "2  A gel (from the lat. gelu—freezing, cold, ice ...   \n",
       "3  extended periods of time can damage gelatin an...   \n",
       "4  ##loid gel. gelatin forms a solution of high v...   \n",
       "\n",
       "                                                 url  feature  activation  \\\n",
       "0               http://www.yourdictionary.com/gelled        0    0.259158   \n",
       "1          https://www.thefreedictionary.com/gelatin        0    0.256561   \n",
       "2  http://medicalxpress.com/tags/hydrogel/sort/li...        0    0.245421   \n",
       "3          http://mlaiskonis.com/2014/06/07/gelatin/        0    0.243735   \n",
       "4  http://www.foodfacts.com/ci/ingredientsoverlay...        0    0.242724   \n",
       "\n",
       "                                            top_acts  \\\n",
       "0  [0.2783777713775635, 0.2591576874256134, 0.113...   \n",
       "1  [0.2565605938434601, 0.22474993765354156, 0.13...   \n",
       "2  [0.24542075395584106, 0.09371058642864227, 0.0...   \n",
       "3  [0.24373508989810944, 0.15119953453540802, 0.1...   \n",
       "4  [0.2427240014076233, 0.1294490396976471, 0.087...   \n",
       "\n",
       "                                         top_indices  \n",
       "0  [2006.0, 0.0, 793.0, 3718.0, 5826.0, 10367.0, ...  \n",
       "1  [0.0, 2006.0, 5826.0, 793.0, 5945.0, 21665.0, ...  \n",
       "2  [0.0, 2006.0, 10367.0, 7655.0, 16380.0, 15780....  \n",
       "3  [0.0, 5826.0, 21665.0, 12673.0, 16225.0, 4502....  \n",
       "4  [0.0, 5826.0, 13791.0, 7655.0, 11963.0, 15780....  "
      ]
     },
     "execution_count": 98,
     "metadata": {},
     "output_type": "execute_result"
    }
   ],
   "source": [
    "t10r_df.head()"
   ]
  },
  {
   "cell_type": "code",
   "execution_count": 99,
   "metadata": {},
   "outputs": [
    {
     "name": "stdout",
     "output_type": "stream",
     "text": [
      "246\n"
     ]
    }
   ],
   "source": [
    "num_features_per_file = 100\n",
    "num_files = (len(feature_df) + num_features_per_file - 1) // num_features_per_file  # Calculate number of files needed\n",
    "print(num_files)\n",
    "\n"
   ]
  },
  {
   "cell_type": "code",
   "execution_count": 101,
   "metadata": {},
   "outputs": [
    {
     "name": "stderr",
     "output_type": "stream",
     "text": [
      "100%|██████████| 246/246 [00:04<00:00, 55.69it/s]\n"
     ]
    }
   ],
   "source": [
    "sorted_feature_df = feature_df.sort_values(by='order')\n",
    "if not os.path.exists(f\"../web/public/models/{name}/samples\"):\n",
    "  os.makedirs(f\"../web/public/models/{name}/samples\")\n",
    "\n",
    "for i in tqdm.tqdm(range(0, len(sorted_feature_df), 100)):\n",
    "    chunk = sorted_feature_df.iloc[i:i + 100]\n",
    "    samples_df = t10r_df[t10r_df['feature'].isin(chunk['feature'])]\n",
    "    samples_df.to_parquet(f\"../web/public/models/{name}/samples/chunk_{i // 100}.parquet\")"
   ]
  },
  {
   "cell_type": "code",
   "execution_count": 102,
   "metadata": {},
   "outputs": [],
   "source": [
    "chunk_mapping = {}\n",
    "for i,f in enumerate(sorted_feature_df['feature'].values):\n",
    "  chunk_mapping[int(f)] = int(i // 100)\n",
    "with open(f\"../web/public/models/{name}/chunk_mapping.json\", \"w\") as f:\n",
    "  json.dump(chunk_mapping, f)\n"
   ]
  },
  {
   "cell_type": "code",
   "execution_count": null,
   "metadata": {},
   "outputs": [],
   "source": []
  }
 ],
 "metadata": {
  "kernelspec": {
   "display_name": "venv",
   "language": "python",
   "name": "python3"
  },
  "language_info": {
   "codemirror_mode": {
    "name": "ipython",
    "version": 3
   },
   "file_extension": ".py",
   "mimetype": "text/x-python",
   "name": "python",
   "nbconvert_exporter": "python",
   "pygments_lexer": "ipython3",
   "version": "3.11.0"
  }
 },
 "nbformat": 4,
 "nbformat_minor": 2
}
