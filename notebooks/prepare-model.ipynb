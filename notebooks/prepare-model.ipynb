{
 "cells": [
  {
   "cell_type": "markdown",
   "metadata": {},
   "source": [
    "## Prepare metadata for a model\n",
    "We combine important meta data about the model from various sources. We want:\n",
    "\n",
    "- id: unique identifier made up of {repo}_{topk}_{expansion}\n",
    "- repo: HF repository\n",
    "- topk: top k latents used\n",
    "- expansion: how many\n",
    "- source_model: HF id of the source model e.g. nomic/nomic-embed-text-v1.5\n",
    "- d_in: input dimensions of the embeddings for the SAE: e.g. 768\n",
    "\n",
    "We also will make a parquet for the features with the following columns\n",
    "\n",
    "- feature: feature id (an index into the SAE decoder weights)\n",
    "- x: UMAP position x\n",
    "- y: UMAP position y\n",
    "- label: feature label\n",
    "- max_activation: max activation of the feature (seen in the top examples)\n",
    "- order: an index into an ordering of the features determined by a 1D UMAP\n",
    "\n",
    "We also prepare the top 10 samples for each feature, these will be split into smaller parquet files for dynamic loading in the browser\n",
    "\n",
    "- text: text of the sample\n",
    "- feature: feature id (an index into the SAE decoder weights)\n",
    "- activation: activation of the feature\n",
    "- top_indices: indices of the topk features activated on this sample\n",
    "- top_acts: activation values of the topk features activated"
   ]
  },
  {
   "cell_type": "code",
   "execution_count": 103,
   "metadata": {},
   "outputs": [
    {
     "name": "stdout",
     "output_type": "stream",
     "text": [
      "Triton not installed, using eager implementation of SAE decoder.\n"
     ]
    }
   ],
   "source": [
    "import pandas as pd\n",
    "import numpy as np\n",
    "import os\n",
    "import json\n",
    "import tqdm\n",
    "from latentsae.sae import Sae"
   ]
  },
  {
   "cell_type": "markdown",
   "metadata": {},
   "source": [
    "### Metadata"
   ]
  },
  {
   "cell_type": "code",
   "execution_count": 104,
   "metadata": {},
   "outputs": [],
   "source": [
    "topk = 64\n",
    "expansion = 32\n",
    "repo = \"enjalot/sae-nomic-text-v1.5-FineWeb-edu-100BT\"\n",
    "sae_id = f\"{topk}_{expansion}\""
   ]
  },
  {
   "cell_type": "code",
   "execution_count": 105,
   "metadata": {},
   "outputs": [
    {
     "name": "stderr",
     "output_type": "stream",
     "text": [
      "Fetching 2 files: 100%|██████████| 2/2 [00:00<00:00, 52428.80it/s]\n",
      "Dropping extra args {'signed': False}\n"
     ]
    }
   ],
   "source": [
    "model = Sae.load_from_hub(repo, sae_id)"
   ]
  },
  {
   "cell_type": "code",
   "execution_count": 106,
   "metadata": {},
   "outputs": [],
   "source": [
    "name = f\"NOMIC_FWEDU_{round(model.num_latents/1000)}k\""
   ]
  },
  {
   "cell_type": "code",
   "execution_count": 107,
   "metadata": {},
   "outputs": [],
   "source": [
    "meta = {\n",
    "  \"id\": f\"{repo}_{sae_id}\",\n",
    "  \"name\": name,\n",
    "  \"repo\": repo,\n",
    "  \"topk\": topk,\n",
    "  \"expansion\": expansion,\n",
    "  \"d_in\": model.d_in,\n",
    "  \"num_latents\": model.num_latents,\n",
    "  \"source_model\": \"nomic-ai/nomic-embed-text-v1.5\"\n",
    "}"
   ]
  },
  {
   "cell_type": "code",
   "execution_count": 108,
   "metadata": {},
   "outputs": [
    {
     "data": {
      "text/plain": [
       "{'id': 'enjalot/sae-nomic-text-v1.5-FineWeb-edu-100BT_64_32',\n",
       " 'name': 'NOMIC_FWEDU_25k',\n",
       " 'repo': 'enjalot/sae-nomic-text-v1.5-FineWeb-edu-100BT',\n",
       " 'topk': 64,\n",
       " 'expansion': 32,\n",
       " 'd_in': 768,\n",
       " 'num_latents': 24576,\n",
       " 'source_model': 'nomic-ai/nomic-embed-text-v1.5'}"
      ]
     },
     "execution_count": 108,
     "metadata": {},
     "output_type": "execute_result"
    }
   ],
   "source": [
    "meta"
   ]
  },
  {
   "cell_type": "code",
   "execution_count": 109,
   "metadata": {},
   "outputs": [],
   "source": [
    "if not os.path.exists(f\"../models/{name}\"):\n",
    "  os.makedirs(f\"../models/{name}\")\n",
    "\n",
    "with open(f\"../models/{name}/metadata.json\", \"w\") as f:\n",
    "  json.dump(meta, f)"
   ]
  },
  {
   "cell_type": "markdown",
   "metadata": {},
   "source": [
    "## Features parquet\n",
    "\n",
    "UMAP coordinates are prepared in the notebook `umap-decoder.ipynb`.   \n",
    "Labels generated in `make-labels.ipynb`.  \n",
    "Samples are downloaded from modal"
   ]
  },
  {
   "cell_type": "code",
   "execution_count": 110,
   "metadata": {},
   "outputs": [
    {
     "data": {
      "text/html": [
       "<div>\n",
       "<style scoped>\n",
       "    .dataframe tbody tr th:only-of-type {\n",
       "        vertical-align: middle;\n",
       "    }\n",
       "\n",
       "    .dataframe tbody tr th {\n",
       "        vertical-align: top;\n",
       "    }\n",
       "\n",
       "    .dataframe thead th {\n",
       "        text-align: right;\n",
       "    }\n",
       "</style>\n",
       "<table border=\"1\" class=\"dataframe\">\n",
       "  <thead>\n",
       "    <tr style=\"text-align: right;\">\n",
       "      <th></th>\n",
       "      <th>x</th>\n",
       "      <th>y</th>\n",
       "    </tr>\n",
       "  </thead>\n",
       "  <tbody>\n",
       "    <tr>\n",
       "      <th>0</th>\n",
       "      <td>-0.303497</td>\n",
       "      <td>0.625081</td>\n",
       "    </tr>\n",
       "    <tr>\n",
       "      <th>1</th>\n",
       "      <td>-0.742769</td>\n",
       "      <td>-0.499167</td>\n",
       "    </tr>\n",
       "    <tr>\n",
       "      <th>2</th>\n",
       "      <td>-0.374569</td>\n",
       "      <td>-0.632960</td>\n",
       "    </tr>\n",
       "    <tr>\n",
       "      <th>3</th>\n",
       "      <td>-0.310232</td>\n",
       "      <td>-0.219518</td>\n",
       "    </tr>\n",
       "    <tr>\n",
       "      <th>4</th>\n",
       "      <td>-0.400855</td>\n",
       "      <td>-0.180536</td>\n",
       "    </tr>\n",
       "  </tbody>\n",
       "</table>\n",
       "</div>"
      ],
      "text/plain": [
       "          x         y\n",
       "0 -0.303497  0.625081\n",
       "1 -0.742769 -0.499167\n",
       "2 -0.374569 -0.632960\n",
       "3 -0.310232 -0.219518\n",
       "4 -0.400855 -0.180536"
      ]
     },
     "execution_count": 110,
     "metadata": {},
     "output_type": "execute_result"
    }
   ],
   "source": [
    "umap_df = pd.read_parquet(f\"data/umap-{name}.parquet\")\n",
    "umap_top10_df = pd.read_parquet(f\"data/umap-top10-{name}.parquet\")\n",
    "umap_df.head()"
   ]
  },
  {
   "cell_type": "code",
   "execution_count": 113,
   "metadata": {},
   "outputs": [
    {
     "data": {
      "text/html": [
       "<div>\n",
       "<style scoped>\n",
       "    .dataframe tbody tr th:only-of-type {\n",
       "        vertical-align: middle;\n",
       "    }\n",
       "\n",
       "    .dataframe tbody tr th {\n",
       "        vertical-align: top;\n",
       "    }\n",
       "\n",
       "    .dataframe thead th {\n",
       "        text-align: right;\n",
       "    }\n",
       "</style>\n",
       "<table border=\"1\" class=\"dataframe\">\n",
       "  <thead>\n",
       "    <tr style=\"text-align: right;\">\n",
       "      <th></th>\n",
       "      <th>chunk_index</th>\n",
       "      <th>chunk_text</th>\n",
       "      <th>chunk_token_count</th>\n",
       "      <th>id</th>\n",
       "      <th>url</th>\n",
       "      <th>score</th>\n",
       "      <th>dump</th>\n",
       "      <th>embedding</th>\n",
       "      <th>top_acts</th>\n",
       "      <th>top_indices</th>\n",
       "      <th>feature</th>\n",
       "      <th>activation</th>\n",
       "    </tr>\n",
       "  </thead>\n",
       "  <tbody>\n",
       "    <tr>\n",
       "      <th>0</th>\n",
       "      <td>0</td>\n",
       "      <td>2019 Study Abstract\\nGenomic imprinting, the m...</td>\n",
       "      <td>191</td>\n",
       "      <td>&lt;urn:uuid:d45d32f3-aee4-464b-a7a7-4659ca6f95a5&gt;</td>\n",
       "      <td>https://desdaughter.com/2019/01/21/genomic-imp...</td>\n",
       "      <td>2.859375</td>\n",
       "      <td>CC-MAIN-2019-18</td>\n",
       "      <td>[0.070664756, 0.04058804, -0.1678945, -0.04720...</td>\n",
       "      <td>[0.29729074239730835, 0.23520702123641968, 0.1...</td>\n",
       "      <td>[0.0, 19961.0, 19487.0, 3596.0, 9132.0, 16563....</td>\n",
       "      <td>0</td>\n",
       "      <td>0.297291</td>\n",
       "    </tr>\n",
       "    <tr>\n",
       "      <th>4973</th>\n",
       "      <td>1</td>\n",
       "      <td>biological function and regulation of imprinte...</td>\n",
       "      <td>500</td>\n",
       "      <td>&lt;urn:uuid:6492a5df-795c-4afc-8b96-adda43d374fe&gt;</td>\n",
       "      <td>http://www.biomedcentral.com/1471-2164/10/144</td>\n",
       "      <td>2.640625</td>\n",
       "      <td>CC-MAIN-2015-11</td>\n",
       "      <td>[0.08591175, 0.05282476, -0.1623837, -0.038760...</td>\n",
       "      <td>[0.2801821529865265, 0.21019425988197327, 0.11...</td>\n",
       "      <td>[0.0, 19961.0, 12474.0, 18618.0, 5676.0, 18178...</td>\n",
       "      <td>0</td>\n",
       "      <td>0.280182</td>\n",
       "    </tr>\n",
       "    <tr>\n",
       "      <th>2426</th>\n",
       "      <td>0</td>\n",
       "      <td>Molecular imprinting is a technique used to cr...</td>\n",
       "      <td>277</td>\n",
       "      <td>&lt;urn:uuid:c4cec9f7-a221-4bac-8872-ad938bbe3b9c&gt;</td>\n",
       "      <td>https://www.advancedsciencenews.com/new-trends...</td>\n",
       "      <td>2.796875</td>\n",
       "      <td>CC-MAIN-2021-04</td>\n",
       "      <td>[0.06389447, 0.054419804, -0.1866366, -0.05261...</td>\n",
       "      <td>[0.27958399057388306, 0.15807494521141052, 0.1...</td>\n",
       "      <td>[0.0, 21919.0, 18672.0, 3614.0, 13226.0, 15727...</td>\n",
       "      <td>0</td>\n",
       "      <td>0.279584</td>\n",
       "    </tr>\n",
       "    <tr>\n",
       "      <th>44507</th>\n",
       "      <td>0</td>\n",
       "      <td>[CLS] imprinting / do not go where the path ma...</td>\n",
       "      <td>500</td>\n",
       "      <td>&lt;urn:uuid:fd9748b7-ad11-4d51-b7d9-b5681c579e36&gt;</td>\n",
       "      <td>https://www.windermeresun.com/2017/08/05/impri...</td>\n",
       "      <td>3.218750</td>\n",
       "      <td>CC-MAIN-2023-40</td>\n",
       "      <td>[0.045871254, 0.0841982, -0.20583852, -0.07991...</td>\n",
       "      <td>[0.27171218395233154, 0.24269740283489227, 0.1...</td>\n",
       "      <td>[0.0, 6864.0, 8104.0, 3020.0, 15020.0, 8543.0,...</td>\n",
       "      <td>0</td>\n",
       "      <td>0.271712</td>\n",
       "    </tr>\n",
       "    <tr>\n",
       "      <th>7496</th>\n",
       "      <td>0</td>\n",
       "      <td>There have been a number of recent insights in...</td>\n",
       "      <td>212</td>\n",
       "      <td>&lt;urn:uuid:40c30498-bed6-4b01-a37e-a2a1b70d80fd&gt;</td>\n",
       "      <td>https://pure.ulster.ac.uk/en/publications/impr...</td>\n",
       "      <td>3.078125</td>\n",
       "      <td>CC-MAIN-2021-10</td>\n",
       "      <td>[0.06898261, 0.04841869, -0.16367012, -0.05253...</td>\n",
       "      <td>[0.2717033922672272, 0.2493799477815628, 0.117...</td>\n",
       "      <td>[0.0, 19961.0, 21919.0, 14900.0, 22498.0, 1514...</td>\n",
       "      <td>0</td>\n",
       "      <td>0.271703</td>\n",
       "    </tr>\n",
       "  </tbody>\n",
       "</table>\n",
       "</div>"
      ],
      "text/plain": [
       "       chunk_index                                         chunk_text  \\\n",
       "0                0  2019 Study Abstract\\nGenomic imprinting, the m...   \n",
       "4973             1  biological function and regulation of imprinte...   \n",
       "2426             0  Molecular imprinting is a technique used to cr...   \n",
       "44507            0  [CLS] imprinting / do not go where the path ma...   \n",
       "7496             0  There have been a number of recent insights in...   \n",
       "\n",
       "       chunk_token_count                                               id  \\\n",
       "0                    191  <urn:uuid:d45d32f3-aee4-464b-a7a7-4659ca6f95a5>   \n",
       "4973                 500  <urn:uuid:6492a5df-795c-4afc-8b96-adda43d374fe>   \n",
       "2426                 277  <urn:uuid:c4cec9f7-a221-4bac-8872-ad938bbe3b9c>   \n",
       "44507                500  <urn:uuid:fd9748b7-ad11-4d51-b7d9-b5681c579e36>   \n",
       "7496                 212  <urn:uuid:40c30498-bed6-4b01-a37e-a2a1b70d80fd>   \n",
       "\n",
       "                                                     url     score  \\\n",
       "0      https://desdaughter.com/2019/01/21/genomic-imp...  2.859375   \n",
       "4973       http://www.biomedcentral.com/1471-2164/10/144  2.640625   \n",
       "2426   https://www.advancedsciencenews.com/new-trends...  2.796875   \n",
       "44507  https://www.windermeresun.com/2017/08/05/impri...  3.218750   \n",
       "7496   https://pure.ulster.ac.uk/en/publications/impr...  3.078125   \n",
       "\n",
       "                  dump                                          embedding  \\\n",
       "0      CC-MAIN-2019-18  [0.070664756, 0.04058804, -0.1678945, -0.04720...   \n",
       "4973   CC-MAIN-2015-11  [0.08591175, 0.05282476, -0.1623837, -0.038760...   \n",
       "2426   CC-MAIN-2021-04  [0.06389447, 0.054419804, -0.1866366, -0.05261...   \n",
       "44507  CC-MAIN-2023-40  [0.045871254, 0.0841982, -0.20583852, -0.07991...   \n",
       "7496   CC-MAIN-2021-10  [0.06898261, 0.04841869, -0.16367012, -0.05253...   \n",
       "\n",
       "                                                top_acts  \\\n",
       "0      [0.29729074239730835, 0.23520702123641968, 0.1...   \n",
       "4973   [0.2801821529865265, 0.21019425988197327, 0.11...   \n",
       "2426   [0.27958399057388306, 0.15807494521141052, 0.1...   \n",
       "44507  [0.27171218395233154, 0.24269740283489227, 0.1...   \n",
       "7496   [0.2717033922672272, 0.2493799477815628, 0.117...   \n",
       "\n",
       "                                             top_indices  feature  activation  \n",
       "0      [0.0, 19961.0, 19487.0, 3596.0, 9132.0, 16563....        0    0.297291  \n",
       "4973   [0.0, 19961.0, 12474.0, 18618.0, 5676.0, 18178...        0    0.280182  \n",
       "2426   [0.0, 21919.0, 18672.0, 3614.0, 13226.0, 15727...        0    0.279584  \n",
       "44507  [0.0, 6864.0, 8104.0, 3020.0, 15020.0, 8543.0,...        0    0.271712  \n",
       "7496   [0.0, 19961.0, 21919.0, 14900.0, 22498.0, 1514...        0    0.271703  "
      ]
     },
     "execution_count": 113,
     "metadata": {},
     "output_type": "execute_result"
    }
   ],
   "source": [
    "top10_df = pd.read_parquet(f\"data/top10_{sae_id}.parquet\")\n",
    "top10_df.head()"
   ]
  },
  {
   "cell_type": "code",
   "execution_count": 114,
   "metadata": {},
   "outputs": [],
   "source": [
    "max_activation_per_feature = top10_df.groupby('feature')['activation'].max().reset_index()\n"
   ]
  },
  {
   "cell_type": "code",
   "execution_count": 115,
   "metadata": {},
   "outputs": [
    {
     "data": {
      "text/html": [
       "<div>\n",
       "<style scoped>\n",
       "    .dataframe tbody tr th:only-of-type {\n",
       "        vertical-align: middle;\n",
       "    }\n",
       "\n",
       "    .dataframe tbody tr th {\n",
       "        vertical-align: top;\n",
       "    }\n",
       "\n",
       "    .dataframe thead th {\n",
       "        text-align: right;\n",
       "    }\n",
       "</style>\n",
       "<table border=\"1\" class=\"dataframe\">\n",
       "  <thead>\n",
       "    <tr style=\"text-align: right;\">\n",
       "      <th></th>\n",
       "      <th>feature</th>\n",
       "      <th>activation</th>\n",
       "    </tr>\n",
       "  </thead>\n",
       "  <tbody>\n",
       "    <tr>\n",
       "      <th>0</th>\n",
       "      <td>0</td>\n",
       "      <td>0.297291</td>\n",
       "    </tr>\n",
       "    <tr>\n",
       "      <th>1</th>\n",
       "      <td>1</td>\n",
       "      <td>0.166444</td>\n",
       "    </tr>\n",
       "    <tr>\n",
       "      <th>2</th>\n",
       "      <td>2</td>\n",
       "      <td>0.240715</td>\n",
       "    </tr>\n",
       "    <tr>\n",
       "      <th>3</th>\n",
       "      <td>3</td>\n",
       "      <td>0.273029</td>\n",
       "    </tr>\n",
       "    <tr>\n",
       "      <th>4</th>\n",
       "      <td>4</td>\n",
       "      <td>0.301342</td>\n",
       "    </tr>\n",
       "    <tr>\n",
       "      <th>...</th>\n",
       "      <td>...</td>\n",
       "      <td>...</td>\n",
       "    </tr>\n",
       "    <tr>\n",
       "      <th>24571</th>\n",
       "      <td>24571</td>\n",
       "      <td>0.276034</td>\n",
       "    </tr>\n",
       "    <tr>\n",
       "      <th>24572</th>\n",
       "      <td>24572</td>\n",
       "      <td>0.273196</td>\n",
       "    </tr>\n",
       "    <tr>\n",
       "      <th>24573</th>\n",
       "      <td>24573</td>\n",
       "      <td>0.259888</td>\n",
       "    </tr>\n",
       "    <tr>\n",
       "      <th>24574</th>\n",
       "      <td>24574</td>\n",
       "      <td>0.197020</td>\n",
       "    </tr>\n",
       "    <tr>\n",
       "      <th>24575</th>\n",
       "      <td>24575</td>\n",
       "      <td>0.231024</td>\n",
       "    </tr>\n",
       "  </tbody>\n",
       "</table>\n",
       "<p>24576 rows × 2 columns</p>\n",
       "</div>"
      ],
      "text/plain": [
       "       feature  activation\n",
       "0            0    0.297291\n",
       "1            1    0.166444\n",
       "2            2    0.240715\n",
       "3            3    0.273029\n",
       "4            4    0.301342\n",
       "...        ...         ...\n",
       "24571    24571    0.276034\n",
       "24572    24572    0.273196\n",
       "24573    24573    0.259888\n",
       "24574    24574    0.197020\n",
       "24575    24575    0.231024\n",
       "\n",
       "[24576 rows x 2 columns]"
      ]
     },
     "execution_count": 115,
     "metadata": {},
     "output_type": "execute_result"
    }
   ],
   "source": [
    "max_activation_per_feature"
   ]
  },
  {
   "cell_type": "code",
   "execution_count": 116,
   "metadata": {},
   "outputs": [],
   "source": [
    "feature_df = max_activation_per_feature.copy()\n",
    "feature_df.rename(columns={'activation': 'max_activation'}, inplace=True)\n"
   ]
  },
  {
   "cell_type": "code",
   "execution_count": 117,
   "metadata": {},
   "outputs": [],
   "source": [
    "feature_df[\"x\"] = umap_df[\"x\"]\n",
    "feature_df[\"y\"] = umap_df[\"y\"]\n",
    "feature_df[\"top10_x\"] = umap_top10_df[\"x\"]\n",
    "feature_df[\"top10_y\"] = umap_top10_df[\"y\"]\n"
   ]
  },
  {
   "cell_type": "code",
   "execution_count": 125,
   "metadata": {},
   "outputs": [],
   "source": [
    "label_df = pd.read_parquet(f\"data/labels-{name}.parquet\")"
   ]
  },
  {
   "cell_type": "code",
   "execution_count": 126,
   "metadata": {},
   "outputs": [
    {
     "data": {
      "text/html": [
       "<div>\n",
       "<style scoped>\n",
       "    .dataframe tbody tr th:only-of-type {\n",
       "        vertical-align: middle;\n",
       "    }\n",
       "\n",
       "    .dataframe tbody tr th {\n",
       "        vertical-align: top;\n",
       "    }\n",
       "\n",
       "    .dataframe thead th {\n",
       "        text-align: right;\n",
       "    }\n",
       "</style>\n",
       "<table border=\"1\" class=\"dataframe\">\n",
       "  <thead>\n",
       "    <tr style=\"text-align: right;\">\n",
       "      <th></th>\n",
       "      <th>feature</th>\n",
       "      <th>label</th>\n",
       "    </tr>\n",
       "  </thead>\n",
       "  <tbody>\n",
       "    <tr>\n",
       "      <th>0</th>\n",
       "      <td>0</td>\n",
       "      <td>FINAL: genomic and molecular imprinting concepts</td>\n",
       "    </tr>\n",
       "    <tr>\n",
       "      <th>1</th>\n",
       "      <td>1</td>\n",
       "      <td>FINAL: Hildegard of Bingen's spiritual and cre...</td>\n",
       "    </tr>\n",
       "    <tr>\n",
       "      <th>2</th>\n",
       "      <td>2</td>\n",
       "      <td>FINAL: Fairchild Semiconductor and Silicon Val...</td>\n",
       "    </tr>\n",
       "    <tr>\n",
       "      <th>3</th>\n",
       "      <td>3</td>\n",
       "      <td>FINAL: socialism political ideology economic e...</td>\n",
       "    </tr>\n",
       "    <tr>\n",
       "      <th>4</th>\n",
       "      <td>4</td>\n",
       "      <td>FINAL: vowel sound definitions and teaching me...</td>\n",
       "    </tr>\n",
       "  </tbody>\n",
       "</table>\n",
       "</div>"
      ],
      "text/plain": [
       "   feature                                              label\n",
       "0        0   FINAL: genomic and molecular imprinting concepts\n",
       "1        1  FINAL: Hildegard of Bingen's spiritual and cre...\n",
       "2        2  FINAL: Fairchild Semiconductor and Silicon Val...\n",
       "3        3  FINAL: socialism political ideology economic e...\n",
       "4        4  FINAL: vowel sound definitions and teaching me..."
      ]
     },
     "execution_count": 126,
     "metadata": {},
     "output_type": "execute_result"
    }
   ],
   "source": [
    "label_df.head()"
   ]
  },
  {
   "cell_type": "code",
   "execution_count": 127,
   "metadata": {},
   "outputs": [
    {
     "data": {
      "text/plain": [
       "24576"
      ]
     },
     "execution_count": 127,
     "metadata": {},
     "output_type": "execute_result"
    }
   ],
   "source": [
    "len(label_df)"
   ]
  },
  {
   "cell_type": "code",
   "execution_count": 133,
   "metadata": {},
   "outputs": [],
   "source": [
    "feature_df.set_index('feature', inplace=True)\n",
    "label_df.set_index('feature', inplace=True)"
   ]
  },
  {
   "cell_type": "code",
   "execution_count": 134,
   "metadata": {},
   "outputs": [],
   "source": [
    "feature_df[\"label\"] = label_df[\"label\"].str.replace(\"FINAL: \", \"\", regex=False).str.strip()"
   ]
  },
  {
   "cell_type": "code",
   "execution_count": 143,
   "metadata": {},
   "outputs": [],
   "source": [
    "feature_df.reset_index(inplace=True)"
   ]
  },
  {
   "cell_type": "code",
   "execution_count": 135,
   "metadata": {},
   "outputs": [],
   "source": [
    "# order_df = pd.read_parquet(f\"data/1d-order-{name}.parquet\")\n",
    "order_df = pd.read_parquet(f\"data/1d-order-{name}-top10.parquet\")\n",
    "# Scale the \"order\" column from 0 to 1\n",
    "# Scale the \"order\" column from 0 to 1\n",
    "order = order_df[\"order\"].values\n",
    "order_min = order.min()\n",
    "order_max = order.max()\n",
    "order = (order - order_min) / (order_max - order_min)\n",
    "\n",
    "\n",
    "feature_df[\"order\"] = order"
   ]
  },
  {
   "cell_type": "code",
   "execution_count": 136,
   "metadata": {},
   "outputs": [],
   "source": [
    "# feature_df = pd.read_parquet(f\"../web/public/models/{name}/features.parquet\")"
   ]
  },
  {
   "cell_type": "code",
   "execution_count": 144,
   "metadata": {},
   "outputs": [
    {
     "data": {
      "text/html": [
       "<div>\n",
       "<style scoped>\n",
       "    .dataframe tbody tr th:only-of-type {\n",
       "        vertical-align: middle;\n",
       "    }\n",
       "\n",
       "    .dataframe tbody tr th {\n",
       "        vertical-align: top;\n",
       "    }\n",
       "\n",
       "    .dataframe thead th {\n",
       "        text-align: right;\n",
       "    }\n",
       "</style>\n",
       "<table border=\"1\" class=\"dataframe\">\n",
       "  <thead>\n",
       "    <tr style=\"text-align: right;\">\n",
       "      <th></th>\n",
       "      <th>feature</th>\n",
       "      <th>max_activation</th>\n",
       "      <th>x</th>\n",
       "      <th>y</th>\n",
       "      <th>top10_x</th>\n",
       "      <th>top10_y</th>\n",
       "      <th>label</th>\n",
       "      <th>order</th>\n",
       "    </tr>\n",
       "  </thead>\n",
       "  <tbody>\n",
       "    <tr>\n",
       "      <th>0</th>\n",
       "      <td>0</td>\n",
       "      <td>0.297291</td>\n",
       "      <td>-0.303497</td>\n",
       "      <td>0.625081</td>\n",
       "      <td>0.515561</td>\n",
       "      <td>-0.068958</td>\n",
       "      <td>genomic and molecular imprinting concepts</td>\n",
       "      <td>0.835001</td>\n",
       "    </tr>\n",
       "    <tr>\n",
       "      <th>1</th>\n",
       "      <td>1</td>\n",
       "      <td>0.166444</td>\n",
       "      <td>-0.742769</td>\n",
       "      <td>-0.499167</td>\n",
       "      <td>-0.758344</td>\n",
       "      <td>0.305733</td>\n",
       "      <td>Hildegard of Bingen's spiritual and creative l...</td>\n",
       "      <td>0.665455</td>\n",
       "    </tr>\n",
       "    <tr>\n",
       "      <th>2</th>\n",
       "      <td>2</td>\n",
       "      <td>0.240715</td>\n",
       "      <td>-0.374569</td>\n",
       "      <td>-0.632960</td>\n",
       "      <td>-0.179834</td>\n",
       "      <td>0.175429</td>\n",
       "      <td>Fairchild Semiconductor and Silicon Valley legacy</td>\n",
       "      <td>0.583131</td>\n",
       "    </tr>\n",
       "    <tr>\n",
       "      <th>3</th>\n",
       "      <td>3</td>\n",
       "      <td>0.273029</td>\n",
       "      <td>-0.310232</td>\n",
       "      <td>-0.219518</td>\n",
       "      <td>-0.729569</td>\n",
       "      <td>-0.154941</td>\n",
       "      <td>socialism political ideology economic equality</td>\n",
       "      <td>0.346067</td>\n",
       "    </tr>\n",
       "    <tr>\n",
       "      <th>4</th>\n",
       "      <td>4</td>\n",
       "      <td>0.301342</td>\n",
       "      <td>-0.400855</td>\n",
       "      <td>-0.180536</td>\n",
       "      <td>-0.344582</td>\n",
       "      <td>-0.491325</td>\n",
       "      <td>vowel sound definitions and teaching methods</td>\n",
       "      <td>0.437009</td>\n",
       "    </tr>\n",
       "  </tbody>\n",
       "</table>\n",
       "</div>"
      ],
      "text/plain": [
       "   feature  max_activation         x         y   top10_x   top10_y  \\\n",
       "0        0        0.297291 -0.303497  0.625081  0.515561 -0.068958   \n",
       "1        1        0.166444 -0.742769 -0.499167 -0.758344  0.305733   \n",
       "2        2        0.240715 -0.374569 -0.632960 -0.179834  0.175429   \n",
       "3        3        0.273029 -0.310232 -0.219518 -0.729569 -0.154941   \n",
       "4        4        0.301342 -0.400855 -0.180536 -0.344582 -0.491325   \n",
       "\n",
       "                                               label     order  \n",
       "0          genomic and molecular imprinting concepts  0.835001  \n",
       "1  Hildegard of Bingen's spiritual and creative l...  0.665455  \n",
       "2  Fairchild Semiconductor and Silicon Valley legacy  0.583131  \n",
       "3     socialism political ideology economic equality  0.346067  \n",
       "4       vowel sound definitions and teaching methods  0.437009  "
      ]
     },
     "execution_count": 144,
     "metadata": {},
     "output_type": "execute_result"
    }
   ],
   "source": [
    "feature_df.head()"
   ]
  },
  {
   "cell_type": "code",
   "execution_count": 145,
   "metadata": {},
   "outputs": [],
   "source": [
    "feature_df.to_parquet(f\"../web/public/models/{name}/features.parquet\")"
   ]
  },
  {
   "cell_type": "markdown",
   "metadata": {},
   "source": [
    "## Sample chunks\n",
    "\n",
    "We chunk our top10 samples into smaller files so we can load them dynamically in the browser."
   ]
  },
  {
   "cell_type": "code",
   "execution_count": 146,
   "metadata": {},
   "outputs": [],
   "source": [
    "t10r_df = top10_df[['id', 'chunk_text', 'url', 'feature', 'activation', 'top_acts', 'top_indices']].copy()\n",
    "t10r_df.rename(columns={'chunk_text': 'text'}, inplace=True)\n"
   ]
  },
  {
   "cell_type": "code",
   "execution_count": 147,
   "metadata": {},
   "outputs": [
    {
     "data": {
      "text/html": [
       "<div>\n",
       "<style scoped>\n",
       "    .dataframe tbody tr th:only-of-type {\n",
       "        vertical-align: middle;\n",
       "    }\n",
       "\n",
       "    .dataframe tbody tr th {\n",
       "        vertical-align: top;\n",
       "    }\n",
       "\n",
       "    .dataframe thead th {\n",
       "        text-align: right;\n",
       "    }\n",
       "</style>\n",
       "<table border=\"1\" class=\"dataframe\">\n",
       "  <thead>\n",
       "    <tr style=\"text-align: right;\">\n",
       "      <th></th>\n",
       "      <th>id</th>\n",
       "      <th>text</th>\n",
       "      <th>url</th>\n",
       "      <th>feature</th>\n",
       "      <th>activation</th>\n",
       "      <th>top_acts</th>\n",
       "      <th>top_indices</th>\n",
       "    </tr>\n",
       "  </thead>\n",
       "  <tbody>\n",
       "    <tr>\n",
       "      <th>0</th>\n",
       "      <td>&lt;urn:uuid:d45d32f3-aee4-464b-a7a7-4659ca6f95a5&gt;</td>\n",
       "      <td>2019 Study Abstract\\nGenomic imprinting, the m...</td>\n",
       "      <td>https://desdaughter.com/2019/01/21/genomic-imp...</td>\n",
       "      <td>0</td>\n",
       "      <td>0.297291</td>\n",
       "      <td>[0.29729074239730835, 0.23520702123641968, 0.1...</td>\n",
       "      <td>[0.0, 19961.0, 19487.0, 3596.0, 9132.0, 16563....</td>\n",
       "    </tr>\n",
       "    <tr>\n",
       "      <th>4973</th>\n",
       "      <td>&lt;urn:uuid:6492a5df-795c-4afc-8b96-adda43d374fe&gt;</td>\n",
       "      <td>biological function and regulation of imprinte...</td>\n",
       "      <td>http://www.biomedcentral.com/1471-2164/10/144</td>\n",
       "      <td>0</td>\n",
       "      <td>0.280182</td>\n",
       "      <td>[0.2801821529865265, 0.21019425988197327, 0.11...</td>\n",
       "      <td>[0.0, 19961.0, 12474.0, 18618.0, 5676.0, 18178...</td>\n",
       "    </tr>\n",
       "    <tr>\n",
       "      <th>2426</th>\n",
       "      <td>&lt;urn:uuid:c4cec9f7-a221-4bac-8872-ad938bbe3b9c&gt;</td>\n",
       "      <td>Molecular imprinting is a technique used to cr...</td>\n",
       "      <td>https://www.advancedsciencenews.com/new-trends...</td>\n",
       "      <td>0</td>\n",
       "      <td>0.279584</td>\n",
       "      <td>[0.27958399057388306, 0.15807494521141052, 0.1...</td>\n",
       "      <td>[0.0, 21919.0, 18672.0, 3614.0, 13226.0, 15727...</td>\n",
       "    </tr>\n",
       "    <tr>\n",
       "      <th>44507</th>\n",
       "      <td>&lt;urn:uuid:fd9748b7-ad11-4d51-b7d9-b5681c579e36&gt;</td>\n",
       "      <td>[CLS] imprinting / do not go where the path ma...</td>\n",
       "      <td>https://www.windermeresun.com/2017/08/05/impri...</td>\n",
       "      <td>0</td>\n",
       "      <td>0.271712</td>\n",
       "      <td>[0.27171218395233154, 0.24269740283489227, 0.1...</td>\n",
       "      <td>[0.0, 6864.0, 8104.0, 3020.0, 15020.0, 8543.0,...</td>\n",
       "    </tr>\n",
       "    <tr>\n",
       "      <th>7496</th>\n",
       "      <td>&lt;urn:uuid:40c30498-bed6-4b01-a37e-a2a1b70d80fd&gt;</td>\n",
       "      <td>There have been a number of recent insights in...</td>\n",
       "      <td>https://pure.ulster.ac.uk/en/publications/impr...</td>\n",
       "      <td>0</td>\n",
       "      <td>0.271703</td>\n",
       "      <td>[0.2717033922672272, 0.2493799477815628, 0.117...</td>\n",
       "      <td>[0.0, 19961.0, 21919.0, 14900.0, 22498.0, 1514...</td>\n",
       "    </tr>\n",
       "  </tbody>\n",
       "</table>\n",
       "</div>"
      ],
      "text/plain": [
       "                                                    id  \\\n",
       "0      <urn:uuid:d45d32f3-aee4-464b-a7a7-4659ca6f95a5>   \n",
       "4973   <urn:uuid:6492a5df-795c-4afc-8b96-adda43d374fe>   \n",
       "2426   <urn:uuid:c4cec9f7-a221-4bac-8872-ad938bbe3b9c>   \n",
       "44507  <urn:uuid:fd9748b7-ad11-4d51-b7d9-b5681c579e36>   \n",
       "7496   <urn:uuid:40c30498-bed6-4b01-a37e-a2a1b70d80fd>   \n",
       "\n",
       "                                                    text  \\\n",
       "0      2019 Study Abstract\\nGenomic imprinting, the m...   \n",
       "4973   biological function and regulation of imprinte...   \n",
       "2426   Molecular imprinting is a technique used to cr...   \n",
       "44507  [CLS] imprinting / do not go where the path ma...   \n",
       "7496   There have been a number of recent insights in...   \n",
       "\n",
       "                                                     url  feature  activation  \\\n",
       "0      https://desdaughter.com/2019/01/21/genomic-imp...        0    0.297291   \n",
       "4973       http://www.biomedcentral.com/1471-2164/10/144        0    0.280182   \n",
       "2426   https://www.advancedsciencenews.com/new-trends...        0    0.279584   \n",
       "44507  https://www.windermeresun.com/2017/08/05/impri...        0    0.271712   \n",
       "7496   https://pure.ulster.ac.uk/en/publications/impr...        0    0.271703   \n",
       "\n",
       "                                                top_acts  \\\n",
       "0      [0.29729074239730835, 0.23520702123641968, 0.1...   \n",
       "4973   [0.2801821529865265, 0.21019425988197327, 0.11...   \n",
       "2426   [0.27958399057388306, 0.15807494521141052, 0.1...   \n",
       "44507  [0.27171218395233154, 0.24269740283489227, 0.1...   \n",
       "7496   [0.2717033922672272, 0.2493799477815628, 0.117...   \n",
       "\n",
       "                                             top_indices  \n",
       "0      [0.0, 19961.0, 19487.0, 3596.0, 9132.0, 16563....  \n",
       "4973   [0.0, 19961.0, 12474.0, 18618.0, 5676.0, 18178...  \n",
       "2426   [0.0, 21919.0, 18672.0, 3614.0, 13226.0, 15727...  \n",
       "44507  [0.0, 6864.0, 8104.0, 3020.0, 15020.0, 8543.0,...  \n",
       "7496   [0.0, 19961.0, 21919.0, 14900.0, 22498.0, 1514...  "
      ]
     },
     "execution_count": 147,
     "metadata": {},
     "output_type": "execute_result"
    }
   ],
   "source": [
    "t10r_df.head()"
   ]
  },
  {
   "cell_type": "code",
   "execution_count": 148,
   "metadata": {},
   "outputs": [
    {
     "name": "stdout",
     "output_type": "stream",
     "text": [
      "246\n"
     ]
    }
   ],
   "source": [
    "num_features_per_file = 100\n",
    "num_files = (len(feature_df) + num_features_per_file - 1) // num_features_per_file  # Calculate number of files needed\n",
    "print(num_files)\n",
    "\n"
   ]
  },
  {
   "cell_type": "code",
   "execution_count": 149,
   "metadata": {},
   "outputs": [
    {
     "name": "stderr",
     "output_type": "stream",
     "text": [
      "  0%|          | 0/246 [00:00<?, ?it/s]"
     ]
    },
    {
     "name": "stderr",
     "output_type": "stream",
     "text": [
      "100%|██████████| 246/246 [00:04<00:00, 54.94it/s]\n"
     ]
    }
   ],
   "source": [
    "sorted_feature_df = feature_df.sort_values(by='order')\n",
    "if not os.path.exists(f\"../web/public/models/{name}/samples\"):\n",
    "  os.makedirs(f\"../web/public/models/{name}/samples\")\n",
    "\n",
    "for i in tqdm.tqdm(range(0, len(sorted_feature_df), 100)):\n",
    "    chunk = sorted_feature_df.iloc[i:i + 100]\n",
    "    samples_df = t10r_df[t10r_df['feature'].isin(chunk['feature'])]\n",
    "    samples_df.to_parquet(f\"../web/public/models/{name}/samples/chunk_{i // 100}.parquet\")"
   ]
  },
  {
   "cell_type": "code",
   "execution_count": 150,
   "metadata": {},
   "outputs": [],
   "source": [
    "chunk_mapping = {}\n",
    "for i,f in enumerate(sorted_feature_df['feature'].values):\n",
    "  chunk_mapping[int(f)] = int(i // 100)\n",
    "with open(f\"../web/public/models/{name}/chunk_mapping.json\", \"w\") as f:\n",
    "  json.dump(chunk_mapping, f)\n"
   ]
  },
  {
   "cell_type": "code",
   "execution_count": null,
   "metadata": {},
   "outputs": [],
   "source": []
  }
 ],
 "metadata": {
  "kernelspec": {
   "display_name": "venv",
   "language": "python",
   "name": "python3"
  },
  "language_info": {
   "codemirror_mode": {
    "name": "ipython",
    "version": 3
   },
   "file_extension": ".py",
   "mimetype": "text/x-python",
   "name": "python",
   "nbconvert_exporter": "python",
   "pygments_lexer": "ipython3",
   "version": "3.11.0"
  }
 },
 "nbformat": 4,
 "nbformat_minor": 2
}
